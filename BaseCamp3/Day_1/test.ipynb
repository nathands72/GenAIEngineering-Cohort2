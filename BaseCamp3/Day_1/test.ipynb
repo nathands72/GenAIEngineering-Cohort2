{
 "cells": [
  {
   "cell_type": "code",
   "execution_count": 3,
   "id": "87caefc9",
   "metadata": {},
   "outputs": [
    {
     "name": "stdout",
     "output_type": "stream",
     "text": [
      "{'operation': 'add', 'a': 5.0, 'b': 3.0, 'result': 8.0}\n"
     ]
    }
   ],
   "source": [
    "import requests\n",
    "response = requests.post(\"https://genaiengineering-cohort2-ijd3.onrender.com/add\", json={\"a\": 5, \"b\": 3})\n",
    "print(response.json())"
   ]
  }
 ],
 "metadata": {
  "kernelspec": {
   "display_name": "basecamp3_env",
   "language": "python",
   "name": "python3"
  },
  "language_info": {
   "codemirror_mode": {
    "name": "ipython",
    "version": 3
   },
   "file_extension": ".py",
   "mimetype": "text/x-python",
   "name": "python",
   "nbconvert_exporter": "python",
   "pygments_lexer": "ipython3",
   "version": "3.13.4"
  }
 },
 "nbformat": 4,
 "nbformat_minor": 5
}
